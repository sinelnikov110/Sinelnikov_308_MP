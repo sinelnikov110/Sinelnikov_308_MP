{
 "cells": [
  {
   "cell_type": "code",
   "execution_count": 110,
   "id": "3edaf25f",
   "metadata": {},
   "outputs": [
    {
     "name": "stdout",
     "output_type": "stream",
     "text": [
      "[[0 0 0 0 0]\n",
      " [1 0 0 0 0]\n",
      " [0 2 0 0 0]\n",
      " [0 0 3 0 0]\n",
      " [0 0 0 4 0]]\n"
     ]
    }
   ],
   "source": [
    "# task_1 //\n",
    "import numpy as np\n",
    "Z = np.diag(np.arange(1, 5), k = -1)\n",
    "print(Z)"
   ]
  },
  {
   "cell_type": "code",
   "execution_count": 111,
   "id": "359152f2",
   "metadata": {},
   "outputs": [
    {
     "name": "stdout",
     "output_type": "stream",
     "text": [
      "[[0.40189165 0.33490258 0.77247114]\n",
      " [0.84359209 0.95995709 0.72701015]\n",
      " [0.98560034 0.22463415 0.62579453]\n",
      " [0.90616813 0.61317059 0.2920512 ]\n",
      " [0.84511031 0.0122381  0.6214142 ]\n",
      " [0.77991332 0.23545006 0.73249342]\n",
      " [0.97246642 0.69801549 0.34541064]\n",
      " [0.01400252 0.06488156 0.14222692]\n",
      " [0.26390903 0.65355    0.57295983]\n",
      " [0.30211264 0.85264422 0.62195093]]\n"
     ]
    },
    {
     "data": {
      "text/plain": [
       "array([0.59810835, 0.62579453, 0.61317059, 0.6214142 , 0.73249342,\n",
       "       0.65458936, 0.85777308, 0.57295983, 0.62195093])"
      ]
     },
     "execution_count": 111,
     "metadata": {},
     "output_type": "execute_result"
    }
   ],
   "source": [
    "# task_2 //\n",
    "arr = np.random.random((10, 3))\n",
    "print(arr)\n",
    "    \n",
    "(0.5 + np.min(np.fabs(arr-0.5), axis = 1))[np.min(arr -0.5, axis = 1) != np.min(np.fabs(arr-0.5), axis = 1)]\n",
    "\n",
    "# (0.5 + np.min(np.fabs(arr-0.5), axis = 1))\n",
    "\n",
    "# 0.5 + np.min(arr -0.5, axis = 1) != 0.5 + np.min(np.fabs(arr-0.5), axis = 1)"
   ]
  },
  {
   "cell_type": "code",
   "execution_count": 112,
   "id": "a14309ab",
   "metadata": {},
   "outputs": [
    {
     "data": {
      "text/plain": [
       "array([3.3738138 , 2.2726294 , 4.19378438, 3.795592  , 2.97650172,\n",
       "       4.44492683])"
      ]
     },
     "execution_count": 112,
     "metadata": {},
     "output_type": "execute_result"
    }
   ],
   "source": [
    "# task_3 //\n",
    "arr = np.random.random((6, 6))\n",
    "np.sum(arr, axis = 1)/np.max(arr, axis = 1)"
   ]
  },
  {
   "cell_type": "code",
   "execution_count": 113,
   "id": "4c2aaab6",
   "metadata": {},
   "outputs": [
    {
     "data": {
      "text/plain": [
       "6"
      ]
     },
     "execution_count": 113,
     "metadata": {},
     "output_type": "execute_result"
    }
   ],
   "source": [
    "# task_4\n",
    "x = np.array([6, 2, 0, 3, 0, 0, 5, 7, 0])\n",
    "np.max(x[(np.argwhere(x == 0)+1)%x.shape])"
   ]
  },
  {
   "cell_type": "code",
   "execution_count": 114,
   "id": "083219b5",
   "metadata": {
    "scrolled": true
   },
   "outputs": [
    {
     "data": {
      "text/plain": [
       "array([2., 2., 2., 2., 1., 4., 1., 1., 2., 1.])"
      ]
     },
     "execution_count": 114,
     "metadata": {},
     "output_type": "execute_result"
    }
   ],
   "source": [
    "# task_5 //\n",
    "\n",
    "x = np.ones(10)\n",
    "i = np.array([0, 1, 2, 3, 5, 5, 5, 8])\n",
    "x[np.unique(i, return_counts = True)[0]] = x[np.unique(i, return_counts = True)[0]] + np.unique(i, return_counts = True)[1] \n",
    "# np.unique(i, return_counts = True)\n",
    "x"
   ]
  },
  {
   "cell_type": "code",
   "execution_count": 115,
   "id": "bcb664be",
   "metadata": {},
   "outputs": [
    {
     "data": {
      "text/plain": [
       "(1, 1, 1.0)"
      ]
     },
     "execution_count": 115,
     "metadata": {},
     "output_type": "execute_result"
    }
   ],
   "source": [
    "# task_6 //\n",
    "x = 1.235\n",
    "round(x), int(x), np.floor(x)"
   ]
  },
  {
   "cell_type": "code",
   "execution_count": 102,
   "id": "9be3a969",
   "metadata": {},
   "outputs": [],
   "source": [
    "from sklearn.datasets import fetch_openml\n",
    "\n",
    "images, labels = fetch_openml('mnist_784', return_X_y=True, as_frame=False)"
   ]
  },
  {
   "cell_type": "code",
   "execution_count": 116,
   "id": "734831ed",
   "metadata": {},
   "outputs": [
    {
     "name": "stdout",
     "output_type": "stream",
     "text": [
      "[1, 1, 1, 1, 0]\n"
     ]
    }
   ],
   "source": [
    "# task_7 //\n",
    "import numpy as np\n",
    "def kNN(train_X, train_Y ,test_X, k=8):\n",
    "    res = []\n",
    "    test_Y = []\n",
    "    for i in test_X:\n",
    "        res = np.argsort(np.linalg.norm(train_X - i, axis=1))[:k]\n",
    "        numberOftrain = np.argmax(np.unique(train_Y[res],  return_counts = True)[1])\n",
    "        test_Y.append(np.unique(train_Y[res],  return_counts = True)[0][numberOftrain])\n",
    "        \n",
    "        \n",
    "    \n",
    "    return test_Y\n",
    "\n",
    "sizeOfSampleTrain = 20\n",
    "sizeOfSampleTest = 5\n",
    "cluster = 4\n",
    "neighbors = 3\n",
    "\n",
    "train_X = np.random.random((sizeOfSampleTrain, 2))\n",
    "train_Y = np.random.randint(cluster, size = sizeOfSampleTrain)\n",
    "test_X = np.random.random((sizeOfSampleTest, 2))\n",
    "print(kNN(train_X, train_Y ,test_X))"
   ]
  },
  {
   "cell_type": "code",
   "execution_count": 119,
   "id": "605721f0",
   "metadata": {},
   "outputs": [
    {
     "data": {
      "text/plain": [
       "0.87"
      ]
     },
     "execution_count": 119,
     "metadata": {},
     "output_type": "execute_result"
    }
   ],
   "source": [
    "# task_8 //\n",
    "import numpy as np\n",
    "def kNN(train_X, train_Y ,test_X, k):\n",
    "    res = []\n",
    "    test_Y = []\n",
    "    for i in test_X:\n",
    "        res = np.argsort(np.linalg.norm(train_X - i, axis=1))[:k]\n",
    "        numberOftrain = np.argmax(np.unique(train_Y[res],  return_counts = True)[1])\n",
    "        test_Y.append(np.unique(train_Y[res],  return_counts = True)[0][numberOftrain])\n",
    "        \n",
    "        \n",
    "    \n",
    "    return test_Y\n",
    "\n",
    "sample_result =[]\n",
    "\n",
    "\n",
    "train_size = 1000\n",
    "train_images = images[:train_size]\n",
    "train_labels = labels[:train_size]\n",
    "test_size = 100\n",
    "test_images = images[-test_size:]\n",
    "test_labels = labels[-test_size:]\n",
    "\n",
    "\n",
    "np.sum(test_labels == kNN(train_images, train_labels ,test_images, 8))/test_size\n",
    "\n",
    "\n",
    "# for i in range (5, 20):\n",
    "#     sample_result.append(np.sum(test_labels == kNN(train_images, train_labels ,test_images, i)))\n",
    "# print(sample_result) "
   ]
  },
  {
   "cell_type": "code",
   "execution_count": null,
   "id": "a423004d",
   "metadata": {},
   "outputs": [],
   "source": []
  }
 ],
 "metadata": {
  "kernelspec": {
   "display_name": "Python 3 (ipykernel)",
   "language": "python",
   "name": "python3"
  },
  "language_info": {
   "codemirror_mode": {
    "name": "ipython",
    "version": 3
   },
   "file_extension": ".py",
   "mimetype": "text/x-python",
   "name": "python",
   "nbconvert_exporter": "python",
   "pygments_lexer": "ipython3",
   "version": "3.10.0"
  }
 },
 "nbformat": 4,
 "nbformat_minor": 5
}
